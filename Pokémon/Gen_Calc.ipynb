{
 "cells": [
  {
   "cell_type": "code",
   "execution_count": 1,
   "metadata": {},
   "outputs": [],
   "source": [
    "    import numpy as np\n",
    "    \n",
    "    import pandas as pd\n",
    "    \n",
    "    import matplotlib.pyplot as plt\n",
    "    %matplotlib inline\n",
    "    \n",
    "    from math import *\n",
    "    \n",
    "    from random import uniform"
   ]
  },
  {
   "cell_type": "code",
   "execution_count": 16,
   "metadata": {},
   "outputs": [
    {
     "name": "stdout",
     "output_type": "stream",
     "text": [
      "      Code  Numero                           Nom   PV  Att  Def   AS   DS  \\\n",
      "0        1       1                    Bulbizarre   45   49   49   65   65   \n",
      "1        2       2                    Herbizarre   60   62   63   80   80   \n",
      "2        3       3                    Florizarre   80   82   83  100  100   \n",
      "3        4       3               Mega-Florizarre   80  100  123  122  120   \n",
      "4        5       4                     Salameche   39   52   43   60   50   \n",
      "...    ...     ...                           ...  ...  ...  ...  ...  ...   \n",
      "1012  1013     889     Zamazenta (Heros Aguerri)   92  130  115   80  115   \n",
      "1013  1014     889  Zamazenta (Bouclier Supreme)   92  130  145   80  145   \n",
      "1014  1015     890                    Ethernatos  140   85   95  145   95   \n",
      "1015  1016     890        Ethernatos (Infinimax)  255  115  250  125  250   \n",
      "1016  1017     891                         Reshi   60   70   70  100   50   \n",
      "\n",
      "      Vit  Total  \n",
      "0      45    318  \n",
      "1      60    405  \n",
      "2      80    525  \n",
      "3      80    625  \n",
      "4      65    309  \n",
      "...   ...    ...  \n",
      "1012  138    670  \n",
      "1013  128    720  \n",
      "1014  130    690  \n",
      "1015  130   1125  \n",
      "1016   50    400  \n",
      "\n",
      "[1017 rows x 10 columns]\n"
     ]
    }
   ],
   "source": [
    "Tab_Pok=pd.read_csv('Système Pokémon.csv',sep=';')\n",
    "print(Tab_Pok)"
   ]
  },
  {
   "cell_type": "code",
   "execution_count": 3,
   "metadata": {},
   "outputs": [],
   "source": [
    "sta=np.array([1,1,1,1,1,1])\n",
    "IV=np.random.randint(0, 32, 6)\n",
    "b=5"
   ]
  },
  {
   "cell_type": "code",
   "execution_count": 4,
   "metadata": {},
   "outputs": [
    {
     "name": "stdout",
     "output_type": "stream",
     "text": [
      "0\n",
      "Les statistiques de  Bulbizarre sont : [229 134 105 126 135 138]\n",
      "Ses IV sont : [29 31  2  6  0 31]  et sa nature est Jovial\n"
     ]
    }
   ],
   "source": [
    "import numpy as np    \n",
    "import pandas as pd\n",
    "import matplotlib.pyplot as plt\n",
    "%matplotlib inline   \n",
    "from math import *\n",
    "\n",
    "def generator(nom,niveau): #Générateur d'un Pokémon de niveau donné, sans EV et avec tirage aléatoire de ses IV et nature\n",
    "    Nat=pd.read_csv('Natures.csv',sep='\\t')\n",
    "    nature=np.random.randint(0, 25, 1)\n",
    "    i=nature[0]\n",
    "    Tab_Pok=pd.read_csv('Système Pokémon.csv',sep=';')\n",
    "    sta=np.array([1,1,1,1,1,1])\n",
    "    IV=np.random.randint(0, 32, 6)\n",
    "    j=0\n",
    "    sta[0]=(2*Tab_Pok['PV'][j]+IV[0])*niveau/100+niveau+10\n",
    "    sta[1]=((2*Tab_Pok['Att'][j]+IV[1])*niveau/100+5)*Nat['A'][i]\n",
    "    sta[2]=((2*Tab_Pok['Def'][j]+IV[2])*niveau/100+5)*Nat['D'][i]\n",
    "    sta[3]=((2*Tab_Pok['AS'][j]+IV[3])*niveau/100+5)*Nat['AS'][i]\n",
    "    sta[4]=((2*Tab_Pok['DS'][j]+IV[4])*niveau/100+5)*Nat['DS'][i]\n",
    "    sta[5]=((2*Tab_Pok['Vit'][j]+IV[5])*niveau/100+5)*Nat['Vit'][i]\n",
    "    txt='Bulbizarre'\n",
    "    while txt!=nom :\n",
    "        j=j+1\n",
    "        txt=Tab_Pok['Nom'][j]\n",
    "        sta[0]=(2*Tab_Pok['PV'][j]+IV[0])*niveau/100+niveau+10\n",
    "        sta[1]=((2*Tab_Pok['Att'][j]+IV[1])*niveau/100+5)*Nat['A'][i]\n",
    "        sta[2]=((2*Tab_Pok['Def'][j]+IV[2])*niveau/100+5)*Nat['D'][i]\n",
    "        sta[3]=((2*Tab_Pok['AS'][j]+IV[3])*niveau/100+5)*Nat['AS'][i]\n",
    "        sta[4]=((2*Tab_Pok['DS'][j]+IV[4])*niveau/100+5)*Nat['DS'][i]\n",
    "        sta[5]=((2*Tab_Pok['Vit'][j]+IV[5])*niveau/100+5)*Nat['Vit'][i]\n",
    "    print(j)\n",
    "    print('Les statistiques de ',nom,'sont :',sta)\n",
    "    print('Ses IV sont :',IV,' et sa nature est',Nat['Nature'][i])\n",
    "\n",
    "generator('Bulbizarre',100)\n"
   ]
  },
  {
   "cell_type": "code",
   "execution_count": 5,
   "metadata": {},
   "outputs": [
    {
     "name": "stdout",
     "output_type": "stream",
     "text": [
      "33\n",
      "Les statistiques de  Pikachu sont : [58 35 25 33 33 53]\n",
      "Ses IV sont : [24 26  3 14  1 13]  et sa nature est Calme\n"
     ]
    }
   ],
   "source": [
    "generator('Pikachu',25)"
   ]
  },
  {
   "cell_type": "raw",
   "metadata": {},
   "source": []
  },
  {
   "cell_type": "code",
   "execution_count": 6,
   "metadata": {},
   "outputs": [
    {
     "data": {
      "text/plain": [
       "array([1, 1, 1, 1, 1, 1])"
      ]
     },
     "execution_count": 6,
     "metadata": {},
     "output_type": "execute_result"
    }
   ],
   "source": [
    "sta"
   ]
  },
  {
   "cell_type": "code",
   "execution_count": 7,
   "metadata": {},
   "outputs": [
    {
     "name": "stdout",
     "output_type": "stream",
     "text": [
      "55\n",
      "Les statistiques de  Nosferapti sont : [37 22 16 17 18 24]\n",
      "Ses IV sont : [ 6 27 21 15  8 17]  et sa nature est Doux\n"
     ]
    }
   ],
   "source": [
    "generator('Nosferapti',15)"
   ]
  },
  {
   "cell_type": "code",
   "execution_count": 8,
   "metadata": {},
   "outputs": [
    {
     "data": {
      "text/plain": [
       "array([1, 1, 1, 1, 1, 1])"
      ]
     },
     "execution_count": 8,
     "metadata": {},
     "output_type": "execute_result"
    }
   ],
   "source": [
    "sta"
   ]
  },
  {
   "cell_type": "code",
   "execution_count": 9,
   "metadata": {},
   "outputs": [
    {
     "data": {
      "text/plain": [
       "'Katagami'"
      ]
     },
     "execution_count": 9,
     "metadata": {},
     "output_type": "execute_result"
    }
   ],
   "source": [
    "txt=Tab_Pok['Nom'][915]\n",
    "txt"
   ]
  },
  {
   "cell_type": "code",
   "execution_count": 10,
   "metadata": {},
   "outputs": [],
   "source": [
    "c=100"
   ]
  },
  {
   "cell_type": "code",
   "execution_count": 11,
   "metadata": {},
   "outputs": [
    {
     "ename": "NameError",
     "evalue": "name 'i' is not defined",
     "output_type": "error",
     "traceback": [
      "\u001b[1;31m---------------------------------------------------------------------------\u001b[0m",
      "\u001b[1;31mNameError\u001b[0m                                 Traceback (most recent call last)",
      "\u001b[1;32m<ipython-input-11-9e187a04a96c>\u001b[0m in \u001b[0;36m<module>\u001b[1;34m\u001b[0m\n\u001b[1;32m----> 1\u001b[1;33m \u001b[0mTab_Pok\u001b[0m\u001b[1;33m[\u001b[0m\u001b[1;34m'PV'\u001b[0m\u001b[1;33m]\u001b[0m\u001b[1;33m[\u001b[0m\u001b[0mi\u001b[0m\u001b[1;33m]\u001b[0m\u001b[1;33m\u001b[0m\u001b[1;33m\u001b[0m\u001b[0m\n\u001b[0m",
      "\u001b[1;31mNameError\u001b[0m: name 'i' is not defined"
     ]
    }
   ],
   "source": [
    "Tab_Pok['PV'][i]"
   ]
  },
  {
   "cell_type": "code",
   "execution_count": 12,
   "metadata": {},
   "outputs": [
    {
     "data": {
      "text/plain": [
       "array([7])"
      ]
     },
     "execution_count": 12,
     "metadata": {},
     "output_type": "execute_result"
    }
   ],
   "source": [
    "nature=np.random.randint(0, 25, 1)\n",
    "nature"
   ]
  },
  {
   "cell_type": "code",
   "execution_count": 13,
   "metadata": {},
   "outputs": [
    {
     "data": {
      "text/plain": [
       "7"
      ]
     },
     "execution_count": 13,
     "metadata": {},
     "output_type": "execute_result"
    }
   ],
   "source": [
    "i=nature[0]\n",
    "i"
   ]
  },
  {
   "cell_type": "code",
   "execution_count": 14,
   "metadata": {},
   "outputs": [
    {
     "data": {
      "text/html": [
       "<div>\n",
       "<style scoped>\n",
       "    .dataframe tbody tr th:only-of-type {\n",
       "        vertical-align: middle;\n",
       "    }\n",
       "\n",
       "    .dataframe tbody tr th {\n",
       "        vertical-align: top;\n",
       "    }\n",
       "\n",
       "    .dataframe thead th {\n",
       "        text-align: right;\n",
       "    }\n",
       "</style>\n",
       "<table border=\"1\" class=\"dataframe\">\n",
       "  <thead>\n",
       "    <tr style=\"text-align: right;\">\n",
       "      <th></th>\n",
       "      <th>Nature</th>\n",
       "      <th>A</th>\n",
       "      <th>D</th>\n",
       "      <th>AS</th>\n",
       "      <th>DS</th>\n",
       "      <th>Vit</th>\n",
       "      <th>GoûtPréféré</th>\n",
       "      <th>GoûtDétesté</th>\n",
       "    </tr>\n",
       "  </thead>\n",
       "  <tbody>\n",
       "    <tr>\n",
       "      <td>0</td>\n",
       "      <td>Assuré</td>\n",
       "      <td>0.9</td>\n",
       "      <td>1.1</td>\n",
       "      <td>1.0</td>\n",
       "      <td>1.0</td>\n",
       "      <td>1.0</td>\n",
       "      <td>Acide</td>\n",
       "      <td>Épicé</td>\n",
       "    </tr>\n",
       "    <tr>\n",
       "      <td>1</td>\n",
       "      <td>Bizarre</td>\n",
       "      <td>1.0</td>\n",
       "      <td>1.0</td>\n",
       "      <td>1.0</td>\n",
       "      <td>1.0</td>\n",
       "      <td>1.0</td>\n",
       "      <td>Aucun</td>\n",
       "      <td>Aucun</td>\n",
       "    </tr>\n",
       "    <tr>\n",
       "      <td>2</td>\n",
       "      <td>Brave</td>\n",
       "      <td>1.1</td>\n",
       "      <td>1.0</td>\n",
       "      <td>1.0</td>\n",
       "      <td>1.0</td>\n",
       "      <td>0.9</td>\n",
       "      <td>Épicé</td>\n",
       "      <td>Sucré</td>\n",
       "    </tr>\n",
       "    <tr>\n",
       "      <td>3</td>\n",
       "      <td>Calme</td>\n",
       "      <td>0.9</td>\n",
       "      <td>1.0</td>\n",
       "      <td>1.0</td>\n",
       "      <td>1.1</td>\n",
       "      <td>1.0</td>\n",
       "      <td>Amer</td>\n",
       "      <td>Épicé</td>\n",
       "    </tr>\n",
       "    <tr>\n",
       "      <td>4</td>\n",
       "      <td>Discret</td>\n",
       "      <td>1.0</td>\n",
       "      <td>1.0</td>\n",
       "      <td>1.1</td>\n",
       "      <td>1.0</td>\n",
       "      <td>0.9</td>\n",
       "      <td>Sec</td>\n",
       "      <td>Sucré</td>\n",
       "    </tr>\n",
       "    <tr>\n",
       "      <td>5</td>\n",
       "      <td>Docile</td>\n",
       "      <td>1.0</td>\n",
       "      <td>1.0</td>\n",
       "      <td>1.0</td>\n",
       "      <td>1.0</td>\n",
       "      <td>1.0</td>\n",
       "      <td>Aucun</td>\n",
       "      <td>Aucun</td>\n",
       "    </tr>\n",
       "    <tr>\n",
       "      <td>6</td>\n",
       "      <td>Doux</td>\n",
       "      <td>1.0</td>\n",
       "      <td>0.9</td>\n",
       "      <td>1.1</td>\n",
       "      <td>1.0</td>\n",
       "      <td>1.0</td>\n",
       "      <td>Sec</td>\n",
       "      <td>Acide</td>\n",
       "    </tr>\n",
       "    <tr>\n",
       "      <td>7</td>\n",
       "      <td>Foufou</td>\n",
       "      <td>1.0</td>\n",
       "      <td>1.0</td>\n",
       "      <td>1.1</td>\n",
       "      <td>0.9</td>\n",
       "      <td>1.0</td>\n",
       "      <td>Sec</td>\n",
       "      <td>Amer</td>\n",
       "    </tr>\n",
       "    <tr>\n",
       "      <td>8</td>\n",
       "      <td>Gentil</td>\n",
       "      <td>1.0</td>\n",
       "      <td>0.9</td>\n",
       "      <td>1.0</td>\n",
       "      <td>1.1</td>\n",
       "      <td>1.0</td>\n",
       "      <td>Amer</td>\n",
       "      <td>Acide</td>\n",
       "    </tr>\n",
       "    <tr>\n",
       "      <td>9</td>\n",
       "      <td>Hardi</td>\n",
       "      <td>1.0</td>\n",
       "      <td>1.0</td>\n",
       "      <td>1.0</td>\n",
       "      <td>1.0</td>\n",
       "      <td>1.0</td>\n",
       "      <td>Aucun</td>\n",
       "      <td>Aucun</td>\n",
       "    </tr>\n",
       "    <tr>\n",
       "      <td>10</td>\n",
       "      <td>Jovial</td>\n",
       "      <td>1.0</td>\n",
       "      <td>1.0</td>\n",
       "      <td>0.9</td>\n",
       "      <td>1.0</td>\n",
       "      <td>1.1</td>\n",
       "      <td>Sucré</td>\n",
       "      <td>Sec</td>\n",
       "    </tr>\n",
       "    <tr>\n",
       "      <td>11</td>\n",
       "      <td>Lâche</td>\n",
       "      <td>1.0</td>\n",
       "      <td>1.1</td>\n",
       "      <td>1.0</td>\n",
       "      <td>0.9</td>\n",
       "      <td>1.0</td>\n",
       "      <td>Acide</td>\n",
       "      <td>Amer</td>\n",
       "    </tr>\n",
       "    <tr>\n",
       "      <td>12</td>\n",
       "      <td>Malin</td>\n",
       "      <td>1.0</td>\n",
       "      <td>1.1</td>\n",
       "      <td>0.9</td>\n",
       "      <td>1.0</td>\n",
       "      <td>1.0</td>\n",
       "      <td>Acide</td>\n",
       "      <td>Sec</td>\n",
       "    </tr>\n",
       "    <tr>\n",
       "      <td>13</td>\n",
       "      <td>Malpoli</td>\n",
       "      <td>1.0</td>\n",
       "      <td>1.0</td>\n",
       "      <td>1.0</td>\n",
       "      <td>1.1</td>\n",
       "      <td>0.9</td>\n",
       "      <td>Amer</td>\n",
       "      <td>Sucré</td>\n",
       "    </tr>\n",
       "    <tr>\n",
       "      <td>14</td>\n",
       "      <td>Mauvais</td>\n",
       "      <td>1.1</td>\n",
       "      <td>1.0</td>\n",
       "      <td>1.0</td>\n",
       "      <td>0.9</td>\n",
       "      <td>1.0</td>\n",
       "      <td>Épicé</td>\n",
       "      <td>Amer</td>\n",
       "    </tr>\n",
       "    <tr>\n",
       "      <td>15</td>\n",
       "      <td>Modeste</td>\n",
       "      <td>0.9</td>\n",
       "      <td>1.0</td>\n",
       "      <td>1.1</td>\n",
       "      <td>1.0</td>\n",
       "      <td>1.0</td>\n",
       "      <td>Sec</td>\n",
       "      <td>Épicé</td>\n",
       "    </tr>\n",
       "    <tr>\n",
       "      <td>16</td>\n",
       "      <td>Naïf</td>\n",
       "      <td>1.0</td>\n",
       "      <td>1.0</td>\n",
       "      <td>1.0</td>\n",
       "      <td>0.9</td>\n",
       "      <td>1.1</td>\n",
       "      <td>Sucré</td>\n",
       "      <td>Amer</td>\n",
       "    </tr>\n",
       "    <tr>\n",
       "      <td>17</td>\n",
       "      <td>Pressé</td>\n",
       "      <td>1.0</td>\n",
       "      <td>0.9</td>\n",
       "      <td>1.0</td>\n",
       "      <td>1.0</td>\n",
       "      <td>1.1</td>\n",
       "      <td>Sucré</td>\n",
       "      <td>Acide</td>\n",
       "    </tr>\n",
       "    <tr>\n",
       "      <td>18</td>\n",
       "      <td>Prudent</td>\n",
       "      <td>1.0</td>\n",
       "      <td>1.0</td>\n",
       "      <td>0.9</td>\n",
       "      <td>1.1</td>\n",
       "      <td>1.0</td>\n",
       "      <td>Amer</td>\n",
       "      <td>Sec</td>\n",
       "    </tr>\n",
       "    <tr>\n",
       "      <td>19</td>\n",
       "      <td>Pudique</td>\n",
       "      <td>1.0</td>\n",
       "      <td>1.0</td>\n",
       "      <td>1.0</td>\n",
       "      <td>1.0</td>\n",
       "      <td>1.0</td>\n",
       "      <td>Aucun</td>\n",
       "      <td>Aucun</td>\n",
       "    </tr>\n",
       "    <tr>\n",
       "      <td>20</td>\n",
       "      <td>Relax</td>\n",
       "      <td>1.0</td>\n",
       "      <td>1.1</td>\n",
       "      <td>1.0</td>\n",
       "      <td>1.0</td>\n",
       "      <td>0.9</td>\n",
       "      <td>Acide</td>\n",
       "      <td>Sucré</td>\n",
       "    </tr>\n",
       "    <tr>\n",
       "      <td>21</td>\n",
       "      <td>Rigide</td>\n",
       "      <td>1.1</td>\n",
       "      <td>1.0</td>\n",
       "      <td>0.9</td>\n",
       "      <td>1.0</td>\n",
       "      <td>1.0</td>\n",
       "      <td>Épicé</td>\n",
       "      <td>Sec</td>\n",
       "    </tr>\n",
       "    <tr>\n",
       "      <td>22</td>\n",
       "      <td>Sérieux</td>\n",
       "      <td>1.0</td>\n",
       "      <td>1.0</td>\n",
       "      <td>1.0</td>\n",
       "      <td>1.0</td>\n",
       "      <td>1.0</td>\n",
       "      <td>Aucun</td>\n",
       "      <td>Aucun</td>\n",
       "    </tr>\n",
       "    <tr>\n",
       "      <td>23</td>\n",
       "      <td>Solo</td>\n",
       "      <td>1.1</td>\n",
       "      <td>0.9</td>\n",
       "      <td>1.0</td>\n",
       "      <td>1.0</td>\n",
       "      <td>1.0</td>\n",
       "      <td>Épicé</td>\n",
       "      <td>Acide</td>\n",
       "    </tr>\n",
       "    <tr>\n",
       "      <td>24</td>\n",
       "      <td>Timide</td>\n",
       "      <td>0.9</td>\n",
       "      <td>1.0</td>\n",
       "      <td>1.0</td>\n",
       "      <td>1.0</td>\n",
       "      <td>1.1</td>\n",
       "      <td>Sucré</td>\n",
       "      <td>Épicé</td>\n",
       "    </tr>\n",
       "  </tbody>\n",
       "</table>\n",
       "</div>"
      ],
      "text/plain": [
       "     Nature    A    D   AS   DS  Vit GoûtPréféré GoûtDétesté\n",
       "0    Assuré  0.9  1.1  1.0  1.0  1.0       Acide       Épicé\n",
       "1   Bizarre  1.0  1.0  1.0  1.0  1.0       Aucun       Aucun\n",
       "2     Brave  1.1  1.0  1.0  1.0  0.9       Épicé       Sucré\n",
       "3     Calme  0.9  1.0  1.0  1.1  1.0        Amer       Épicé\n",
       "4   Discret  1.0  1.0  1.1  1.0  0.9         Sec       Sucré\n",
       "5    Docile  1.0  1.0  1.0  1.0  1.0       Aucun       Aucun\n",
       "6      Doux  1.0  0.9  1.1  1.0  1.0         Sec       Acide\n",
       "7    Foufou  1.0  1.0  1.1  0.9  1.0         Sec        Amer\n",
       "8    Gentil  1.0  0.9  1.0  1.1  1.0        Amer       Acide\n",
       "9     Hardi  1.0  1.0  1.0  1.0  1.0       Aucun       Aucun\n",
       "10   Jovial  1.0  1.0  0.9  1.0  1.1       Sucré         Sec\n",
       "11    Lâche  1.0  1.1  1.0  0.9  1.0       Acide        Amer\n",
       "12    Malin  1.0  1.1  0.9  1.0  1.0       Acide         Sec\n",
       "13  Malpoli  1.0  1.0  1.0  1.1  0.9        Amer       Sucré\n",
       "14  Mauvais  1.1  1.0  1.0  0.9  1.0       Épicé        Amer\n",
       "15  Modeste  0.9  1.0  1.1  1.0  1.0         Sec       Épicé\n",
       "16     Naïf  1.0  1.0  1.0  0.9  1.1       Sucré        Amer\n",
       "17   Pressé  1.0  0.9  1.0  1.0  1.1       Sucré       Acide\n",
       "18  Prudent  1.0  1.0  0.9  1.1  1.0        Amer         Sec\n",
       "19  Pudique  1.0  1.0  1.0  1.0  1.0       Aucun       Aucun\n",
       "20    Relax  1.0  1.1  1.0  1.0  0.9       Acide       Sucré\n",
       "21   Rigide  1.1  1.0  0.9  1.0  1.0       Épicé         Sec\n",
       "22  Sérieux  1.0  1.0  1.0  1.0  1.0       Aucun       Aucun\n",
       "23     Solo  1.1  0.9  1.0  1.0  1.0       Épicé       Acide\n",
       "24   Timide  0.9  1.0  1.0  1.0  1.1       Sucré       Épicé"
      ]
     },
     "execution_count": 14,
     "metadata": {},
     "output_type": "execute_result"
    }
   ],
   "source": [
    "Nat=pd.read_csv('Natures.csv',sep='\\t')\n",
    "Nat"
   ]
  },
  {
   "cell_type": "code",
   "execution_count": 15,
   "metadata": {},
   "outputs": [
    {
     "name": "stdout",
     "output_type": "stream",
     "text": [
      "1 2\n",
      "Les statistiques de  Florizarre sont : [25 15 16 17 17 14]\n"
     ]
    }
   ],
   "source": [
    "def stat(nom,niveau,IV,EV,nature):#Calcul des statistiques du Pokémon \"nom\". IV et EV sont des vecteurs à 6 composantes\n",
    "    Nat=pd.read_csv('Natures.csv',sep='\\t')\n",
    "    txtn='Assuré'\n",
    "    i=0\n",
    "    Tab_Pok=pd.read_csv('Système Pokémon.csv',sep=';')\n",
    "    sta=np.array([1,1,1,1,1,1])\n",
    "    j=0\n",
    "    txt='Bulbizarre'\n",
    "    while txtn!=nature:\n",
    "        i=i+1\n",
    "        txtn=Nat['Nature'][i]\n",
    "    while txt!=nom:\n",
    "        j=j+1\n",
    "        txt=Tab_Pok['Nom'][j]\n",
    "        sta[0]=(2*Tab_Pok['PV'][j]+IV[0]+EV[0]/4)*niveau/100+niveau+10\n",
    "        sta[1]=((2*Tab_Pok['Att'][j]+IV[1]+EV[1]/4)*niveau/100+5)*Nat['A'][i]\n",
    "        sta[2]=((2*Tab_Pok['Def'][j]+IV[2]+EV[2]/4)*niveau/100+5)*Nat['D'][i]\n",
    "        sta[3]=((2*Tab_Pok['AS'][j]+IV[3]+EV[3]/4)*niveau/100+5)*Nat['AS'][i]\n",
    "        sta[4]=((2*Tab_Pok['DS'][j]+IV[4]+EV[4]/4)*niveau/100+5)*Nat['DS'][i]\n",
    "        sta[5]=((2*Tab_Pok['Vit'][j]+IV[5]+EV[5]/4)*niveau/100+5)*Nat['Vit'][i]\n",
    "    print(i,j)\n",
    "    print('Les statistiques de ',nom,'sont :',sta)\n",
    "    \n",
    "stat('Florizarre',6,[6,6,27,7,0,6],[0,0,0,0,0,0],'Bizarre')"
   ]
  },
  {
   "cell_type": "code",
   "execution_count": 19,
   "metadata": {},
   "outputs": [
    {
     "name": "stdout",
     "output_type": "stream",
     "text": [
      "1 1016\n",
      "Les statistiques de  Reshi sont : [22 13 13 16 11 11]\n"
     ]
    }
   ],
   "source": [
    "stat('Reshi',5,[27,26,25,30,23,25],[0,0,0,0,0,0],'Bizarre')"
   ]
  },
  {
   "cell_type": "code",
   "execution_count": 10,
   "metadata": {},
   "outputs": [],
   "source": [
    "def Degats(Attaquant,Defenseur,Type,CM,Puissance,moda,modd):#Type = Phy ou Spe, CM est le coeff multiplicateur, dépendant de stab, \n",
    "    # Faiblesse/résistance, CC, Climat, etc.\n",
    "    PV=0 # Initialisation des PV perdus\n",
    "    Att=0 # Initialisation de la valeur d'attaque\n",
    "    Def=0 # Initialisation de la valeur de défense\n",
    "    alea=uniform(0.85,1) # Nombre aléatoire utilisé dans le calcul de dégâts\n",
    "    Données=pd.read_csv('Dégâts.csv',sep='\\t') # Fichier des stats et niveau des concernés\n",
    "    txta='Test' # Initialisation du nom de l'attaquant dans le fichier des concernés\n",
    "    i=0\n",
    "    txtd='Test'  # Initialisation du nom du défenseur dans le fichier des concernés\n",
    "    j=0\n",
    "    while txta!=Attaquant: #Boucle servant à sélectionner la ligne de données de l'attaquant\n",
    "        i=i+1\n",
    "        txta=Données['Nom'][i]\n",
    "    while txtd!=Defenseur: #Boucle servant à sélectionner la ligne de données du défenseur\n",
    "        j=j+1\n",
    "        txtd=Données['Nom'][j]\n",
    "    if Type == 'Phy': #Si l'attaque est de catégorie physique\n",
    "        Att=moda*Données['A'][i]\n",
    "        Def=modd*Données['D'][j]\n",
    "    else: #Si l'attaque est de catégorie spéciale\n",
    "        Att=moda*Données['AS'][i]\n",
    "        Def=modd*Données['DS'][j]\n",
    "    \n",
    "    PV=int(CM*alea*(2+(Données['Niveau'][i]*0.4+2)*Att*Puissance/Def/50))\n",
    "    print(i,j)\n",
    "    print(Defenseur,' perd ',PV,' points de vie !')"
   ]
  },
  {
   "cell_type": "code",
   "execution_count": 17,
   "metadata": {},
   "outputs": [
    {
     "data": {
      "text/plain": [
       "40"
      ]
     },
     "execution_count": 17,
     "metadata": {},
     "output_type": "execute_result"
    }
   ],
   "source": [
    "Données=pd.read_csv('Dégâts.csv',sep='\\t')\n",
    "Données.loc[1,'AS']"
   ]
  },
  {
   "cell_type": "code",
   "execution_count": 16,
   "metadata": {},
   "outputs": [
    {
     "name": "stdout",
     "output_type": "stream",
     "text": [
      "1 2\n",
      "Galekid  perd  27  points de vie !\n"
     ]
    }
   ],
   "source": [
    "Degats('Ruby','Galekid','Spe',1,40,1,1)"
   ]
  },
  {
   "cell_type": "code",
   "execution_count": 17,
   "metadata": {},
   "outputs": [
    {
     "ename": "KeyError",
     "evalue": "1016",
     "output_type": "error",
     "traceback": [
      "\u001b[1;31m---------------------------------------------------------------------------\u001b[0m",
      "\u001b[1;31mKeyError\u001b[0m                                  Traceback (most recent call last)",
      "\u001b[1;32m<ipython-input-17-b916d8699241>\u001b[0m in \u001b[0;36m<module>\u001b[1;34m\u001b[0m\n\u001b[1;32m----> 1\u001b[1;33m \u001b[0mgenerator\u001b[0m\u001b[1;33m(\u001b[0m\u001b[1;34m'Humain 3'\u001b[0m\u001b[1;33m,\u001b[0m\u001b[1;36m100\u001b[0m\u001b[1;33m)\u001b[0m\u001b[1;33m\u001b[0m\u001b[1;33m\u001b[0m\u001b[0m\n\u001b[0m",
      "\u001b[1;32m<ipython-input-5-e3423fc4f9be>\u001b[0m in \u001b[0;36mgenerator\u001b[1;34m(nom, niveau)\u001b[0m\n\u001b[0;32m     22\u001b[0m     \u001b[1;32mwhile\u001b[0m \u001b[0mtxt\u001b[0m\u001b[1;33m!=\u001b[0m\u001b[0mnom\u001b[0m \u001b[1;33m:\u001b[0m\u001b[1;33m\u001b[0m\u001b[1;33m\u001b[0m\u001b[0m\n\u001b[0;32m     23\u001b[0m         \u001b[0mj\u001b[0m\u001b[1;33m=\u001b[0m\u001b[0mj\u001b[0m\u001b[1;33m+\u001b[0m\u001b[1;36m1\u001b[0m\u001b[1;33m\u001b[0m\u001b[1;33m\u001b[0m\u001b[0m\n\u001b[1;32m---> 24\u001b[1;33m         \u001b[0mtxt\u001b[0m\u001b[1;33m=\u001b[0m\u001b[0mTab_Pok\u001b[0m\u001b[1;33m[\u001b[0m\u001b[1;34m'Nom'\u001b[0m\u001b[1;33m]\u001b[0m\u001b[1;33m[\u001b[0m\u001b[0mj\u001b[0m\u001b[1;33m]\u001b[0m\u001b[1;33m\u001b[0m\u001b[1;33m\u001b[0m\u001b[0m\n\u001b[0m\u001b[0;32m     25\u001b[0m         \u001b[0msta\u001b[0m\u001b[1;33m[\u001b[0m\u001b[1;36m0\u001b[0m\u001b[1;33m]\u001b[0m\u001b[1;33m=\u001b[0m\u001b[1;33m(\u001b[0m\u001b[1;36m2\u001b[0m\u001b[1;33m*\u001b[0m\u001b[0mTab_Pok\u001b[0m\u001b[1;33m[\u001b[0m\u001b[1;34m'PV'\u001b[0m\u001b[1;33m]\u001b[0m\u001b[1;33m[\u001b[0m\u001b[0mj\u001b[0m\u001b[1;33m]\u001b[0m\u001b[1;33m+\u001b[0m\u001b[0mIV\u001b[0m\u001b[1;33m[\u001b[0m\u001b[1;36m0\u001b[0m\u001b[1;33m]\u001b[0m\u001b[1;33m)\u001b[0m\u001b[1;33m*\u001b[0m\u001b[0mniveau\u001b[0m\u001b[1;33m/\u001b[0m\u001b[1;36m100\u001b[0m\u001b[1;33m+\u001b[0m\u001b[0mniveau\u001b[0m\u001b[1;33m+\u001b[0m\u001b[1;36m10\u001b[0m\u001b[1;33m\u001b[0m\u001b[1;33m\u001b[0m\u001b[0m\n\u001b[0;32m     26\u001b[0m         \u001b[0msta\u001b[0m\u001b[1;33m[\u001b[0m\u001b[1;36m1\u001b[0m\u001b[1;33m]\u001b[0m\u001b[1;33m=\u001b[0m\u001b[1;33m(\u001b[0m\u001b[1;33m(\u001b[0m\u001b[1;36m2\u001b[0m\u001b[1;33m*\u001b[0m\u001b[0mTab_Pok\u001b[0m\u001b[1;33m[\u001b[0m\u001b[1;34m'Att'\u001b[0m\u001b[1;33m]\u001b[0m\u001b[1;33m[\u001b[0m\u001b[0mj\u001b[0m\u001b[1;33m]\u001b[0m\u001b[1;33m+\u001b[0m\u001b[0mIV\u001b[0m\u001b[1;33m[\u001b[0m\u001b[1;36m1\u001b[0m\u001b[1;33m]\u001b[0m\u001b[1;33m)\u001b[0m\u001b[1;33m*\u001b[0m\u001b[0mniveau\u001b[0m\u001b[1;33m/\u001b[0m\u001b[1;36m100\u001b[0m\u001b[1;33m+\u001b[0m\u001b[1;36m5\u001b[0m\u001b[1;33m)\u001b[0m\u001b[1;33m*\u001b[0m\u001b[0mNat\u001b[0m\u001b[1;33m[\u001b[0m\u001b[1;34m'A'\u001b[0m\u001b[1;33m]\u001b[0m\u001b[1;33m[\u001b[0m\u001b[0mi\u001b[0m\u001b[1;33m]\u001b[0m\u001b[1;33m\u001b[0m\u001b[1;33m\u001b[0m\u001b[0m\n",
      "\u001b[1;32m~\\Anaconda3\\lib\\site-packages\\pandas\\core\\series.py\u001b[0m in \u001b[0;36m__getitem__\u001b[1;34m(self, key)\u001b[0m\n\u001b[0;32m   1066\u001b[0m         \u001b[0mkey\u001b[0m \u001b[1;33m=\u001b[0m \u001b[0mcom\u001b[0m\u001b[1;33m.\u001b[0m\u001b[0mapply_if_callable\u001b[0m\u001b[1;33m(\u001b[0m\u001b[0mkey\u001b[0m\u001b[1;33m,\u001b[0m \u001b[0mself\u001b[0m\u001b[1;33m)\u001b[0m\u001b[1;33m\u001b[0m\u001b[1;33m\u001b[0m\u001b[0m\n\u001b[0;32m   1067\u001b[0m         \u001b[1;32mtry\u001b[0m\u001b[1;33m:\u001b[0m\u001b[1;33m\u001b[0m\u001b[1;33m\u001b[0m\u001b[0m\n\u001b[1;32m-> 1068\u001b[1;33m             \u001b[0mresult\u001b[0m \u001b[1;33m=\u001b[0m \u001b[0mself\u001b[0m\u001b[1;33m.\u001b[0m\u001b[0mindex\u001b[0m\u001b[1;33m.\u001b[0m\u001b[0mget_value\u001b[0m\u001b[1;33m(\u001b[0m\u001b[0mself\u001b[0m\u001b[1;33m,\u001b[0m \u001b[0mkey\u001b[0m\u001b[1;33m)\u001b[0m\u001b[1;33m\u001b[0m\u001b[1;33m\u001b[0m\u001b[0m\n\u001b[0m\u001b[0;32m   1069\u001b[0m \u001b[1;33m\u001b[0m\u001b[0m\n\u001b[0;32m   1070\u001b[0m             \u001b[1;32mif\u001b[0m \u001b[1;32mnot\u001b[0m \u001b[0mis_scalar\u001b[0m\u001b[1;33m(\u001b[0m\u001b[0mresult\u001b[0m\u001b[1;33m)\u001b[0m\u001b[1;33m:\u001b[0m\u001b[1;33m\u001b[0m\u001b[1;33m\u001b[0m\u001b[0m\n",
      "\u001b[1;32m~\\Anaconda3\\lib\\site-packages\\pandas\\core\\indexes\\base.py\u001b[0m in \u001b[0;36mget_value\u001b[1;34m(self, series, key)\u001b[0m\n\u001b[0;32m   4728\u001b[0m         \u001b[0mk\u001b[0m \u001b[1;33m=\u001b[0m \u001b[0mself\u001b[0m\u001b[1;33m.\u001b[0m\u001b[0m_convert_scalar_indexer\u001b[0m\u001b[1;33m(\u001b[0m\u001b[0mk\u001b[0m\u001b[1;33m,\u001b[0m \u001b[0mkind\u001b[0m\u001b[1;33m=\u001b[0m\u001b[1;34m\"getitem\"\u001b[0m\u001b[1;33m)\u001b[0m\u001b[1;33m\u001b[0m\u001b[1;33m\u001b[0m\u001b[0m\n\u001b[0;32m   4729\u001b[0m         \u001b[1;32mtry\u001b[0m\u001b[1;33m:\u001b[0m\u001b[1;33m\u001b[0m\u001b[1;33m\u001b[0m\u001b[0m\n\u001b[1;32m-> 4730\u001b[1;33m             \u001b[1;32mreturn\u001b[0m \u001b[0mself\u001b[0m\u001b[1;33m.\u001b[0m\u001b[0m_engine\u001b[0m\u001b[1;33m.\u001b[0m\u001b[0mget_value\u001b[0m\u001b[1;33m(\u001b[0m\u001b[0ms\u001b[0m\u001b[1;33m,\u001b[0m \u001b[0mk\u001b[0m\u001b[1;33m,\u001b[0m \u001b[0mtz\u001b[0m\u001b[1;33m=\u001b[0m\u001b[0mgetattr\u001b[0m\u001b[1;33m(\u001b[0m\u001b[0mseries\u001b[0m\u001b[1;33m.\u001b[0m\u001b[0mdtype\u001b[0m\u001b[1;33m,\u001b[0m \u001b[1;34m\"tz\"\u001b[0m\u001b[1;33m,\u001b[0m \u001b[1;32mNone\u001b[0m\u001b[1;33m)\u001b[0m\u001b[1;33m)\u001b[0m\u001b[1;33m\u001b[0m\u001b[1;33m\u001b[0m\u001b[0m\n\u001b[0m\u001b[0;32m   4731\u001b[0m         \u001b[1;32mexcept\u001b[0m \u001b[0mKeyError\u001b[0m \u001b[1;32mas\u001b[0m \u001b[0me1\u001b[0m\u001b[1;33m:\u001b[0m\u001b[1;33m\u001b[0m\u001b[1;33m\u001b[0m\u001b[0m\n\u001b[0;32m   4732\u001b[0m             \u001b[1;32mif\u001b[0m \u001b[0mlen\u001b[0m\u001b[1;33m(\u001b[0m\u001b[0mself\u001b[0m\u001b[1;33m)\u001b[0m \u001b[1;33m>\u001b[0m \u001b[1;36m0\u001b[0m \u001b[1;32mand\u001b[0m \u001b[1;33m(\u001b[0m\u001b[0mself\u001b[0m\u001b[1;33m.\u001b[0m\u001b[0mholds_integer\u001b[0m\u001b[1;33m(\u001b[0m\u001b[1;33m)\u001b[0m \u001b[1;32mor\u001b[0m \u001b[0mself\u001b[0m\u001b[1;33m.\u001b[0m\u001b[0mis_boolean\u001b[0m\u001b[1;33m(\u001b[0m\u001b[1;33m)\u001b[0m\u001b[1;33m)\u001b[0m\u001b[1;33m:\u001b[0m\u001b[1;33m\u001b[0m\u001b[1;33m\u001b[0m\u001b[0m\n",
      "\u001b[1;32mpandas\\_libs\\index.pyx\u001b[0m in \u001b[0;36mpandas._libs.index.IndexEngine.get_value\u001b[1;34m()\u001b[0m\n",
      "\u001b[1;32mpandas\\_libs\\index.pyx\u001b[0m in \u001b[0;36mpandas._libs.index.IndexEngine.get_value\u001b[1;34m()\u001b[0m\n",
      "\u001b[1;32mpandas\\_libs\\index.pyx\u001b[0m in \u001b[0;36mpandas._libs.index.IndexEngine.get_loc\u001b[1;34m()\u001b[0m\n",
      "\u001b[1;32mpandas\\_libs\\hashtable_class_helper.pxi\u001b[0m in \u001b[0;36mpandas._libs.hashtable.Int64HashTable.get_item\u001b[1;34m()\u001b[0m\n",
      "\u001b[1;32mpandas\\_libs\\hashtable_class_helper.pxi\u001b[0m in \u001b[0;36mpandas._libs.hashtable.Int64HashTable.get_item\u001b[1;34m()\u001b[0m\n",
      "\u001b[1;31mKeyError\u001b[0m: 1016"
     ]
    }
   ],
   "source": [
    "generator('Humain 3',100)"
   ]
  },
  {
   "cell_type": "code",
   "execution_count": 14,
   "metadata": {},
   "outputs": [],
   "source": [
    "h=1,1"
   ]
  },
  {
   "cell_type": "code",
   "execution_count": 15,
   "metadata": {},
   "outputs": [
    {
     "data": {
      "text/plain": [
       "(1, 1)"
      ]
     },
     "execution_count": 15,
     "metadata": {},
     "output_type": "execute_result"
    }
   ],
   "source": [
    "h"
   ]
  },
  {
   "cell_type": "code",
   "execution_count": 43,
   "metadata": {},
   "outputs": [
    {
     "data": {
      "text/plain": [
       "0.9994591796471883"
      ]
     },
     "execution_count": 43,
     "metadata": {},
     "output_type": "execute_result"
    }
   ],
   "source": [
    "uniform(0.85,1)"
   ]
  },
  {
   "cell_type": "code",
   "execution_count": 23,
   "metadata": {},
   "outputs": [],
   "source": [
    "def exp(basexp,niveau,bonus): #Fonction calculant les points d'expérience obtenus en mettant KO un adversaire\n",
    "    a=int(bonus*basexp*niveau/7)\n",
    "    print('Vous gagnez ',a,' points d\\'expérience !')"
   ]
  },
  {
   "cell_type": "code",
   "execution_count": 24,
   "metadata": {},
   "outputs": [
    {
     "name": "stdout",
     "output_type": "stream",
     "text": [
      "Vous gagnez  4  points d'expérience !\n"
     ]
    }
   ],
   "source": [
    "exp(6,5,1)"
   ]
  },
  {
   "cell_type": "code",
   "execution_count": 25,
   "metadata": {},
   "outputs": [],
   "source": [
    "def calexp(niveau,courbe):\n",
    "    if courbe=='rapide':\n",
    "        exp=0.8*niveau*niveau*niveau\n",
    "    elif courbe=='moyenne':\n",
    "        exp=niveau*niveau*niveau\n",
    "    elif courbe=='parabolique':\n",
    "        exp=1.2*niveau*niveau*niveau-15*niveau*niveau+100*niveau-140\n",
    "    elif courbe=='lente':\n",
    "        exp=1.25*niveau*niveau*niveau\n",
    "    elif courbe=='erratique':\n",
    "        if 0<niveau<51:\n",
    "            exp=niveau*niveau*niveau*(100-niveau)/50\n",
    "        elif 50<niveau<69:\n",
    "            exp=niveau*niveau*niveau*(150-niveau)/100\n",
    "        elif 68<niveau<99:\n",
    "            if niveau%3==0:\n",
    "                exp=niveau*niveau*niveau*(1.274-niveau/150)\n",
    "            elif niveau%3==1:\n",
    "                exp=niveau*niveau*niveau*(1.274-niveau/150-0.008)\n",
    "            elif niveau%3==2:\n",
    "                exp=niveau*niveau*niveau*(1.274-niveau/150-0.014)\n",
    "        elif 98<niveau<101:\n",
    "            exp=niveau*niveau*niveau*(160-niveau)/100\n",
    "    elif courbe=='fluctuante':\n",
    "        if 0<niveau<16:\n",
    "            exp=niveau*niveau*niveau/50*(24+(niveau+1)/3)\n",
    "        elif 15<niveau<36:\n",
    "            exp=niveau*niveau*niveau/50*(14+niveau)\n",
    "        elif 35<niveau<101:\n",
    "            exp=niveau*niveau*niveau/50*(32+niveau/2)\n",
    "    print('L\\'expérience pour atteindre le niveau ',niveau,' est de ',exp,' points d\\'expérience')"
   ]
  },
  {
   "cell_type": "code",
   "execution_count": 9,
   "metadata": {},
   "outputs": [
    {
     "name": "stdout",
     "output_type": "stream",
     "text": [
      "L'expérience pour atteindre le niveau  85  est de  491300.0  points d'expérience\n",
      "L'expérience pour atteindre le niveau  85  est de  614125  points d'expérience\n",
      "L'expérience pour atteindre le niveau  85  est de  636935.0  points d'expérience\n",
      "L'expérience pour atteindre le niveau  85  est de  767656.25  points d'expérience\n",
      "L'expérience pour atteindre le niveau  85  est de  429478.0833333334  points d'expérience\n",
      "L'expérience pour atteindre le niveau  85  est de  915046.25  points d'expérience\n"
     ]
    }
   ],
   "source": [
    "calexp(85,'rapide')\n",
    "calexp(85,'moyenne')\n",
    "calexp(85,'parabolique')\n",
    "calexp(85,'lente')\n",
    "calexp(85,'erratique')\n",
    "calexp(85,'fluctuante')"
   ]
  },
  {
   "cell_type": "code",
   "execution_count": 26,
   "metadata": {},
   "outputs": [],
   "source": [
    "def prob(pre,esq,att):\n",
    "    p=pre*att/esq\n",
    "    print('La probabilité de toucher est de ',p,'%')"
   ]
  },
  {
   "cell_type": "code",
   "execution_count": 13,
   "metadata": {},
   "outputs": [
    {
     "name": "stdout",
     "output_type": "stream",
     "text": [
      "La probabilité de toucher est de  90.0 %\n"
     ]
    }
   ],
   "source": [
    "prob(1,1,90)"
   ]
  },
  {
   "cell_type": "code",
   "execution_count": 12,
   "metadata": {},
   "outputs": [
    {
     "name": "stdout",
     "output_type": "stream",
     "text": [
      "La probabilité de toucher est de  199.5 %\n"
     ]
    }
   ],
   "source": [
    "prob(133,60,90)"
   ]
  },
  {
   "cell_type": "code",
   "execution_count": 13,
   "metadata": {},
   "outputs": [
    {
     "name": "stdout",
     "output_type": "stream",
     "text": [
      "La probabilité de toucher est de  40.6015037593985 %\n"
     ]
    }
   ],
   "source": [
    "prob(60,133,90)"
   ]
  },
  {
   "cell_type": "code",
   "execution_count": null,
   "metadata": {},
   "outputs": [],
   "source": []
  }
 ],
 "metadata": {
  "kernelspec": {
   "display_name": "Python 3",
   "language": "python",
   "name": "python3"
  },
  "language_info": {
   "codemirror_mode": {
    "name": "ipython",
    "version": 3
   },
   "file_extension": ".py",
   "mimetype": "text/x-python",
   "name": "python",
   "nbconvert_exporter": "python",
   "pygments_lexer": "ipython3",
   "version": "3.8.3"
  }
 },
 "nbformat": 4,
 "nbformat_minor": 2
}
