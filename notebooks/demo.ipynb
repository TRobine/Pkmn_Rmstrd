{
 "cells": [
  {
   "cell_type": "markdown",
   "metadata": {},
   "source": [
    "# Enjoy All Functionality From a Single Object\n",
    "---\n",
    "\n",
    "The `pokejdr` package provides a high level `Pokemon` object to handle all our needs.\n",
    "Get set up in just one line!"
   ]
  },
  {
   "cell_type": "code",
   "execution_count": 1,
   "metadata": {},
   "outputs": [],
   "source": [
    "from pokejdr import Pokemon"
   ]
  },
  {
   "cell_type": "markdown",
   "metadata": {},
   "source": [
    "# Generate Random Pokemons from Name + Level\n",
    "---\n",
    "\n",
    "Generate `Pokemon` instances for your players' encounters in a single line, you only need to provide the encountered pokemon's name and its level.\n",
    "You can also chose to encounter a random pokemon.\n",
    "_Totally_ random."
   ]
  },
  {
   "cell_type": "code",
   "execution_count": 2,
   "metadata": {},
   "outputs": [
    {
     "name": "stderr",
     "output_type": "stream",
     "text": [
      "2020-11-30 21:32:27 | INFO     | pokejdr.model:270 - Creating a random Salameche of level 15\n",
      "2020-11-30 21:32:27 | DEBUG    | pokejdr.model:273 - Generating random IV for Salameche\n",
      "2020-11-30 21:32:27 | DEBUG    | pokejdr.model:277 - Computing attributes based on provided level (15) and attributed nature (Rigide)\n"
     ]
    },
    {
     "data": {
      "text/plain": [
       "Pokemon(code=5, number=4, name='Salameche', level=15, health=41, attack=23, defense=22, special_attack=25, special_defense=22, speed=26, nature='Rigide', iv=[31, 1, 28, 31, 15, 10], ev=[0, 0, 0, 0, 0, 0], accuracy=1.0, dodge=1.0, base_xp=62, base_ev=[0, 0, 0, 0, 0, 1])"
      ]
     },
     "execution_count": 2,
     "metadata": {},
     "output_type": "execute_result"
    }
   ],
   "source": [
    "Pokemon.generate_random(\"Salameche\", 15)"
   ]
  },
  {
   "cell_type": "code",
   "execution_count": 3,
   "metadata": {},
   "outputs": [
    {
     "name": "stderr",
     "output_type": "stream",
     "text": [
      "2020-11-30 21:32:27 | INFO     | pokejdr.model:270 - Creating a random Dracaufeu of level 100\n",
      "2020-11-30 21:32:27 | DEBUG    | pokejdr.model:273 - Generating random IV for Dracaufeu\n",
      "2020-11-30 21:32:27 | DEBUG    | pokejdr.model:277 - Computing attributes based on provided level (100) and attributed nature (Modeste)\n"
     ]
    },
    {
     "data": {
      "text/plain": [
       "Pokemon(code=7, number=6, name='Dracaufeu', level=100, health=292, attack=171, defense=173, special_attack=279, special_defense=196, speed=233, nature='Modeste', iv=[26, 17, 12, 31, 21, 28], ev=[0, 0, 0, 0, 0, 0], accuracy=1.0, dodge=1.0, base_xp=267, base_ev=[0, 0, 0, 3, 0, 0])"
      ]
     },
     "execution_count": 3,
     "metadata": {},
     "output_type": "execute_result"
    }
   ],
   "source": [
    "Pokemon.generate_random(\"Dracaufeu\", 100)"
   ]
  },
  {
   "cell_type": "markdown",
   "metadata": {},
   "source": [
    "## Generate a fully random Pokemon from level only"
   ]
  },
  {
   "cell_type": "code",
   "execution_count": 4,
   "metadata": {},
   "outputs": [
    {
     "name": "stderr",
     "output_type": "stream",
     "text": [
      "2020-11-30 21:32:27 | INFO     | pokejdr.model:270 - Creating a random Babimanta of level 25\n",
      "2020-11-30 21:32:27 | DEBUG    | pokejdr.model:273 - Generating random IV for Babimanta\n",
      "2020-11-30 21:32:27 | DEBUG    | pokejdr.model:277 - Computing attributes based on provided level (25) and attributed nature (Brave)\n"
     ]
    },
    {
     "data": {
      "text/plain": [
       "Pokemon(code=538, number=458, name='Babimanta', level=25, health=59, attack=20, defense=37, special_attack=39, special_defense=65, speed=30, nature='Brave', iv=[6, 11, 27, 17, 0, 13], ev=[0, 0, 0, 0, 0, 0], accuracy=1.0, dodge=1.0, base_xp=175, base_ev=[0, 0, 2, 0, 0, 0])"
      ]
     },
     "execution_count": 4,
     "metadata": {},
     "output_type": "execute_result"
    }
   ],
   "source": [
    "Pokemon.generate_random(\"random\", 25)"
   ]
  },
  {
   "cell_type": "markdown",
   "metadata": {},
   "source": [
    "# Save and Load Specific Pokemons\n",
    "---\n",
    "\n",
    "Who doesn't need to save progress?\n",
    "Each of your players' `Pokemon` can be saved to and loaded back from file."
   ]
  },
  {
   "cell_type": "code",
   "execution_count": 5,
   "metadata": {},
   "outputs": [],
   "source": [
    "player1_goupix = Pokemon(\n",
    "    code=50,\n",
    "    number=37,\n",
    "    name=\"Goupix\",\n",
    "    health=38,\n",
    "    attack=41,\n",
    "    defense=40,\n",
    "    special_attack=50,\n",
    "    special_defense=65,\n",
    "    speed=65,\n",
    "    iv=[18, 16, 1, 21, 30, 10],\n",
    "    ev=[5, 0, 2, 10, 0, 5],\n",
    ")"
   ]
  },
  {
   "cell_type": "code",
   "execution_count": 6,
   "metadata": {},
   "outputs": [
    {
     "name": "stderr",
     "output_type": "stream",
     "text": [
      "2020-11-30 21:32:27 | INFO     | pokejdr.model:341 - Saving Pokemon data as PICKLE at '/Users/felixsoubelet/Repositories/Personal_Projects/Pkmn_Rmstrd/notebooks/pickle_save.pkl'\n",
      "2020-11-30 21:32:27 | INFO     | pokejdr.model:319 - Saving Pokemon data as JSON at '/Users/felixsoubelet/Repositories/Personal_Projects/Pkmn_Rmstrd/notebooks/json_save.json'\n"
     ]
    }
   ],
   "source": [
    "from pathlib import Path\n",
    "\n",
    "# Saving to file\n",
    "player1_goupix.to_pickle(\"pickle_save.pkl\")\n",
    "player1_goupix.to_json(Path(\"json_save.json\"))  # also accepts a PosixPath object\n",
    "\n",
    "assert Path(\"pickle_save.pkl\").is_file()\n",
    "assert Path(\"json_save.json\").is_file()"
   ]
  },
  {
   "cell_type": "code",
   "execution_count": 7,
   "metadata": {},
   "outputs": [
    {
     "name": "stderr",
     "output_type": "stream",
     "text": [
      "2020-11-30 21:32:27 | INFO     | pokejdr.model:353 - Loading PICKLE Pokemon data from file at '/Users/felixsoubelet/Repositories/Personal_Projects/Pkmn_Rmstrd/notebooks/pickle_save.pkl'\n"
     ]
    },
    {
     "data": {
      "text/plain": [
       "Pokemon(code=50, number=37, name='Goupix', level=None, health=38, attack=41, defense=40, special_attack=50, special_defense=65, speed=65, nature=None, iv=[18, 16, 1, 21, 30, 10], ev=[5, 0, 2, 10, 0, 5], accuracy=1.0, dodge=1.0, base_xp=0, base_ev=[0, 0, 0, 0, 0, 0])"
      ]
     },
     "execution_count": 7,
     "metadata": {},
     "output_type": "execute_result"
    }
   ],
   "source": [
    "# Loading from pickle\n",
    "Pokemon.from_pickle(\"pickle_save.pkl\")"
   ]
  },
  {
   "cell_type": "code",
   "execution_count": 8,
   "metadata": {},
   "outputs": [
    {
     "name": "stderr",
     "output_type": "stream",
     "text": [
      "2020-11-30 21:32:27 | INFO     | pokejdr.model:331 - Loading JSON Pokemon data from file at '/Users/felixsoubelet/Repositories/Personal_Projects/Pkmn_Rmstrd/notebooks/json_save.json'\n"
     ]
    },
    {
     "data": {
      "text/plain": [
       "Pokemon(code=50, number=37, name='Goupix', level=None, health=38, attack=41, defense=40, special_attack=50, special_defense=65, speed=65, nature=None, iv=[18, 16, 1, 21, 30, 10], ev=[5, 0, 2, 10, 0, 5], accuracy=1.0, dodge=1.0, base_xp=0, base_ev=[0, 0, 0, 0, 0, 0])"
      ]
     },
     "execution_count": 8,
     "metadata": {},
     "output_type": "execute_result"
    }
   ],
   "source": [
    "# Loading from JSON\n",
    "Pokemon.from_json(Path(\"json_save.json\"))  # also accepts a PosixPath object"
   ]
  },
  {
   "cell_type": "code",
   "execution_count": 9,
   "metadata": {},
   "outputs": [],
   "source": [
    "# Let's clean after ourselves\n",
    "Path(\"pickle_save.pkl\").unlink()\n",
    "Path(\"json_save.json\").unlink()"
   ]
  },
  {
   "cell_type": "markdown",
   "metadata": {},
   "source": [
    "# Easily Level Up and Update Attributes\n",
    "---\n",
    "\n",
    "Leveling up is a big mechanic, and changes a `Pokemon`'s stats.\n",
    "Of course, there's a method for that.\n",
    "The stats are updated too.\n",
    "\n",
    "You can also easily check the **total** amount of experience required to reach a specific level depending on the `Pokemon`'s leveling curve type."
   ]
  },
  {
   "cell_type": "code",
   "execution_count": 10,
   "metadata": {},
   "outputs": [
    {
     "name": "stderr",
     "output_type": "stream",
     "text": [
      "2020-11-30 21:32:27 | INFO     | pokejdr.model:270 - Creating a random Salameche of level 15\n",
      "2020-11-30 21:32:27 | DEBUG    | pokejdr.model:273 - Generating random IV for Salameche\n",
      "2020-11-30 21:32:27 | DEBUG    | pokejdr.model:277 - Computing attributes based on provided level (15) and attributed nature (Lâche)\n"
     ]
    },
    {
     "data": {
      "text/plain": [
       "Pokemon(code=5, number=4, name='Salameche', level=15, health=37, attack=22, defense=22, special_attack=26, special_defense=18, speed=29, nature='Lâche', iv=[2, 7, 14, 19, 1, 29], ev=[10, 0, 12, 0, 0, 4], accuracy=1.0, dodge=1.0, base_xp=62, base_ev=[0, 0, 0, 0, 0, 1])"
      ]
     },
     "execution_count": 10,
     "metadata": {},
     "output_type": "execute_result"
    }
   ],
   "source": [
    "example_poke = Pokemon.generate_random(\"Salameche\", 15)\n",
    "example_poke.ev = [10, 0, 12, 0, 0, 4]  # the pokemon's EVs are taken into account for the stats update\n",
    "example_poke"
   ]
  },
  {
   "cell_type": "code",
   "execution_count": 11,
   "metadata": {},
   "outputs": [
    {
     "name": "stderr",
     "output_type": "stream",
     "text": [
      "2020-11-30 21:32:27 | INFO     | pokejdr.model:101 - The amount of experience Salameche needs to reach level 55 is 158 056\n"
     ]
    }
   ],
   "source": [
    "# How much experience to level 55 with an erratic leveling curve?\n",
    "_ = example_poke.experience_to_level(55, \"erratic\")"
   ]
  },
  {
   "cell_type": "code",
   "execution_count": 12,
   "metadata": {},
   "outputs": [
    {
     "name": "stderr",
     "output_type": "stream",
     "text": [
      "2020-11-30 21:32:27 | INFO     | pokejdr.model:101 - The amount of experience Salameche needs to reach level 16 is 6 881\n",
      "2020-11-30 21:32:27 | INFO     | pokejdr.model:101 - The amount of experience Salameche needs to reach level 15 is 5 738\n",
      "2020-11-30 21:32:27 | INFO     | pokejdr.model:122 - The amount of experience Salameche needs to reach the next level is 1 143\n"
     ]
    }
   ],
   "source": [
    "# How much experience from the current level to the next with an erratic leveling curve?\n",
    "_ = example_poke.experience_to_next_level(\"erratic\")"
   ]
  },
  {
   "cell_type": "code",
   "execution_count": 13,
   "metadata": {},
   "outputs": [
    {
     "name": "stderr",
     "output_type": "stream",
     "text": [
      "2020-11-30 21:32:27 | INFO     | pokejdr.model:141 - Salameche has reached level 16, updating stats now.\n",
      "2020-11-30 21:32:27 | DEBUG    | pokejdr.model:162 - Salameche's stats have been updated!\n"
     ]
    },
    {
     "data": {
      "text/plain": [
       "Pokemon(code=5, number=4, name='Salameche', level=16, health=39, attack=22, defense=23, special_attack=27, special_defense=19, speed=30, nature='Lâche', iv=[2, 7, 14, 19, 1, 29], ev=[10, 0, 12, 0, 0, 4], accuracy=1.0, dodge=1.0, base_xp=62, base_ev=[0, 0, 0, 0, 0, 1])"
      ]
     },
     "execution_count": 13,
     "metadata": {},
     "output_type": "execute_result"
    }
   ],
   "source": [
    "example_poke.level_up()\n",
    "example_poke"
   ]
  },
  {
   "cell_type": "markdown",
   "metadata": {},
   "source": [
    "# Deal Damage in Combat\n",
    "---\n",
    "\n",
    "The `Pokemon` object provides methods to perform __physical__ and __special__ attacks, which also update the target's health.\n",
    "You will get a __CRITICAL__ level log message in case the target faints from the attack.\n",
    "You also get a quick calculation of the probability to hit the ennemy `Pokemon` depending on the move used, if you want your players make a dice throw for that."
   ]
  },
  {
   "cell_type": "code",
   "execution_count": 14,
   "metadata": {},
   "outputs": [
    {
     "name": "stderr",
     "output_type": "stream",
     "text": [
      "2020-11-30 21:32:27 | INFO     | pokejdr.model:270 - Creating a random Tournicoton of level 5\n",
      "2020-11-30 21:32:27 | DEBUG    | pokejdr.model:273 - Generating random IV for Tournicoton\n",
      "2020-11-30 21:32:27 | DEBUG    | pokejdr.model:277 - Computing attributes based on provided level (5) and attributed nature (Prudent)\n",
      "2020-11-30 21:32:27 | INFO     | pokejdr.model:270 - Creating a random Milobellus of level 55\n",
      "2020-11-30 21:32:27 | DEBUG    | pokejdr.model:273 - Generating random IV for Milobellus\n",
      "2020-11-30 21:32:27 | DEBUG    | pokejdr.model:277 - Computing attributes based on provided level (55) and attributed nature (Mauvais)\n"
     ]
    },
    {
     "data": {
      "text/plain": [
       "(20, 180)"
      ]
     },
     "execution_count": 14,
     "metadata": {},
     "output_type": "execute_result"
    }
   ],
   "source": [
    "wild_pokemon = Pokemon.generate_random(\"random\", 5)\n",
    "players_pokemon = Pokemon.generate_random(\"random\", 55)\n",
    "wild_pokemon.accuracy = 0.8  # let's say the attacker is affected by an ability\n",
    "\n",
    "wild_pokemon.health, players_pokemon.health"
   ]
  },
  {
   "cell_type": "code",
   "execution_count": 15,
   "metadata": {},
   "outputs": [
    {
     "name": "stderr",
     "output_type": "stream",
     "text": [
      "2020-11-30 21:32:27 | INFO     | pokejdr.model:179 - Tournicoton has a 88.00% change of hitting Milobellus\n"
     ]
    }
   ],
   "source": [
    "# See the hit probability for a given move, knowing the fighting pokemons\n",
    "_ = wild_pokemon.hit_probability(players_pokemon, move_accuracy=1.1)"
   ]
  },
  {
   "cell_type": "code",
   "execution_count": 16,
   "metadata": {},
   "outputs": [
    {
     "name": "stderr",
     "output_type": "stream",
     "text": [
      "2020-11-30 21:32:27 | INFO     | pokejdr.model:407 - Tournicoton performs a physical attack on Milobellus that deals 2 damage\n",
      "2020-11-30 21:32:27 | INFO     | pokejdr.model:216 - Milobellus's health is now at 178\n"
     ]
    }
   ],
   "source": [
    "# Perform an attack of type \"physical\" / \"normal\"\n",
    "wild_pokemon.perform_physical_attack(\n",
    "    target_pokemon=players_pokemon,\n",
    "    attack_power=20,  # directly depends on the move used for the attack\n",
    "    attack_modifier=1.5,  # depends on effects on the pokemon such as previous moves, items etc\n",
    "    defense_modifier=2,  # depends on effects on the pokemon such as previous moves, items etc\n",
    "    global_modifier=1.3,  # depends on a lot of factors such as weather etc\n",
    ")"
   ]
  },
  {
   "cell_type": "code",
   "execution_count": 17,
   "metadata": {},
   "outputs": [
    {
     "name": "stderr",
     "output_type": "stream",
     "text": [
      "2020-11-30 21:32:27 | INFO     | pokejdr.model:407 - Milobellus performs a physical attack on Tournicoton that deals 173 damage\n",
      "2020-11-30 21:32:27 | CRITICAL | pokejdr.model:49 - HP have dropped below 0, pokemon has fainted!\n",
      "2020-11-30 21:32:27 | INFO     | pokejdr.model:216 - Tournicoton's health is now at 0\n"
     ]
    }
   ],
   "source": [
    "# Perform an attack of type \"special\"\n",
    "players_pokemon.perform_physical_attack(wild_pokemon, 50)  # make use of the default values if no modifiers"
   ]
  },
  {
   "cell_type": "markdown",
   "metadata": {},
   "source": [
    "Great, you've defeated an ennemy (notice we get a appropriate logging when a pokemon faints from an attack)!\n",
    "Time to discover your gains."
   ]
  },
  {
   "cell_type": "code",
   "execution_count": 18,
   "metadata": {},
   "outputs": [
    {
     "name": "stderr",
     "output_type": "stream",
     "text": [
      "2020-11-30 21:32:27 | INFO     | pokejdr.model:82 - 195 experience is gained for defeating Tournicoton\n",
      "2020-11-30 21:32:27 | INFO     | pokejdr.model:83 - The following EV are gained for defeating Tournicoton: [0, 0, 3, 0, 0, 0]\n"
     ]
    }
   ],
   "source": [
    "_ = wild_pokemon.experience_given(contextual_bonus=1.1,)  # can be affected by an object"
   ]
  },
  {
   "cell_type": "markdown",
   "metadata": {},
   "source": [
    "---"
   ]
  }
 ],
 "metadata": {
  "kernelspec": {
   "display_name": "pokemon",
   "language": "python",
   "name": "pokemon"
  },
  "language_info": {
   "codemirror_mode": {
    "name": "ipython",
    "version": 3
   },
   "file_extension": ".py",
   "mimetype": "text/x-python",
   "name": "python",
   "nbconvert_exporter": "python",
   "pygments_lexer": "ipython3",
   "version": "3.8.5"
  }
 },
 "nbformat": 4,
 "nbformat_minor": 4
}
